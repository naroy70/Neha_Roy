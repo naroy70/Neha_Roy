{
 "cells": [
  {
   "cell_type": "markdown",
   "id": "b6653c81-2e55-476c-9f6d-f1694bf4f506",
   "metadata": {},
   "source": [
    "Data Science Tools and Ecosystem"
   ]
  },
  {
   "cell_type": "markdown",
   "id": "215d7170-3656-4bad-a3c2-229a7a1b2b5c",
   "metadata": {},
   "source": [
    "print(\"In this notebook, Data Science Tools and Ecosystem are summarized.\")"
   ]
  },
  {
   "cell_type": "markdown",
   "id": "ceeebfd2-060b-4a6e-b02d-bc9e9abb0251",
   "metadata": {},
   "source": [
    "In this notebook, Data Science Tools and Ecosystem are summarized."
   ]
  },
  {
   "cell_type": "markdown",
   "id": "302e5ab2-83ab-4119-b278-b16a377b6411",
   "metadata": {},
   "source": [
    "Some of the popular Languages that Data Scientist use are:\n",
    "Num | Languages\n",
    "---------------\n",
    "1   | Python\n",
    "2   | R\n",
    "3   | ML"
   ]
  },
  {
   "cell_type": "markdown",
   "id": "638e0ddf-2a30-4407-8dfa-8e9be7a56f6a",
   "metadata": {},
   "source": [
    "Some of the popular languages that Data Scientist use are:\n",
    "\n",
    "1. Python  \n",
    "2. R\n",
    "3. ML"
   ]
  },
  {
   "cell_type": "markdown",
   "id": "e7dcae08-cfe9-49c5-a6fe-5d5334e887a5",
   "metadata": {},
   "source": [
    "Some of the commonly used libraries used by Data Scientist include:\n",
    "1. ggplot\n",
    "2. pandas\n",
    "3. numpy\n",
    "4. keras\n",
    "5. pytorch"
   ]
  },
  {
   "cell_type": "markdown",
   "id": "4c0433c5-dbec-4518-b8c4-dae042693663",
   "metadata": {},
   "source": [
    "Data Science Tools\n",
    "------------------\n",
    "R Studio\n",
    "Jupyter\n",
    "Apache Spark\n",
    "\n"
   ]
  },
  {
   "cell_type": "markdown",
   "id": "b010c2a6-5762-4bc8-82e4-4da2a1290478",
   "metadata": {},
   "source": [
    "|Data Science Tools|\n",
    "|------------------|\n",
    "|R Studio          |\n",
    "|Jupyter           |\n",
    "|Apache Spark      |"
   ]
  },
  {
   "cell_type": "markdown",
   "id": "c49d8bcc-605d-456c-a726-5f71aaeb7b52",
   "metadata": {},
   "source": [
    "Below are a few examples of evaluating arithmetic expressions in Python\n",
    "-----------------------------------------------------------------------\n"
   ]
  },
  {
   "cell_type": "code",
   "execution_count": 2,
   "id": "5840ef56-45a4-40cd-9f86-2dd11f5a1dc2",
   "metadata": {},
   "outputs": [
    {
     "data": {
      "text/plain": [
       "17"
      ]
     },
     "execution_count": 2,
     "metadata": {},
     "output_type": "execute_result"
    }
   ],
   "source": [
    "##This a simple arithmetic expression to mutiply then add integers\n",
    "(3*4)+5"
   ]
  },
  {
   "cell_type": "code",
   "execution_count": 3,
   "id": "fa8f999d-f523-48d7-a362-6b4371e682d0",
   "metadata": {},
   "outputs": [
    {
     "data": {
      "text/plain": [
       "3.3333333333333335"
      ]
     },
     "execution_count": 3,
     "metadata": {},
     "output_type": "execute_result"
    }
   ],
   "source": [
    "## This will convert 200 minutes to hours by diving by 60\n",
    "200/60"
   ]
  },
  {
   "cell_type": "markdown",
   "id": "01392fab-132f-44d5-955a-52feb942996b",
   "metadata": {},
   "source": [
    "Objectives:\n",
    "------------\n",
    "\n",
    "R Studio\n",
    "Github\n",
    "Python\n",
    "R\n",
    "Apache Spark\n"
   ]
  },
  {
   "cell_type": "markdown",
   "id": "fa337f3b-47f6-4c26-8af6-1bcbef79634a",
   "metadata": {},
   "source": [
    "** Objectives:\n",
    "* R Studio\n",
    "* Github\n",
    "* Python\n",
    "* R\n",
    "* Apache Spark"
   ]
  },
  {
   "cell_type": "markdown",
   "id": "4cbff35f-ff84-4e38-950f-b17483f7e1a1",
   "metadata": {},
   "source": [
    "Objectives:\n",
    "__________\n",
    "* R Studio\n",
    "* Github\n",
    "* Python\n",
    "* R\n",
    "* Apache Spark\n",
    "  "
   ]
  },
  {
   "cell_type": "markdown",
   "id": "340357a1-b0cb-4f48-a849-392c5f3b2ef9",
   "metadata": {},
   "source": [
    "Author: Lakshmi Holla\n",
    "---------------------\n",
    "NehaEileen Roy"
   ]
  },
  {
   "cell_type": "code",
   "execution_count": null,
   "id": "62b0ef80-3fd6-44cb-9b19-957bf3287302",
   "metadata": {},
   "outputs": [],
   "source": []
  }
 ],
 "metadata": {
  "kernelspec": {
   "display_name": "Python 3 (ipykernel)",
   "language": "python",
   "name": "python3"
  },
  "language_info": {
   "codemirror_mode": {
    "name": "ipython",
    "version": 3
   },
   "file_extension": ".py",
   "mimetype": "text/x-python",
   "name": "python",
   "nbconvert_exporter": "python",
   "pygments_lexer": "ipython3",
   "version": "3.12.8"
  }
 },
 "nbformat": 4,
 "nbformat_minor": 5
}
